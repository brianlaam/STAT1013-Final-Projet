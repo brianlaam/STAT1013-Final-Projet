{
  "cells": [
    {
      "cell_type": "markdown",
      "metadata": {
        "id": "bU0oR7ct5jUp"
      },
      "source": [
        "# Written Questions "
      ]
    },
    {
      "cell_type": "markdown",
      "metadata": {
        "id": "YDIlRuyINfJY"
      },
      "source": [
        "## Background Information"
      ]
    },
    {
      "cell_type": "markdown",
      "metadata": {
        "id": "zSMkrqf0MzG6"
      },
      "source": [
        "**Background and basic description of the dataset:**\n",
        "\n",
        "The dataset shows the points difference (per game) for both home games and away games for 30 NBA teams, in the 2021-2022 season.\n",
        "\n",
        "Each team played 82 games, where home games and away games are half-half (41 games for each).\n",
        "\n",
        "It also includes which conference (East / West) does the team belong to, as well as did they make to playoff."
      ]
    },
    {
      "cell_type": "markdown",
      "metadata": {
        "id": "8GGYfvTZNivy"
      },
      "source": [
        "## Hypothesis"
      ]
    },
    {
      "cell_type": "markdown",
      "metadata": {
        "id": "0qM_Bwa0NlcO"
      },
      "source": [
        "**1. Tell us what your idea is and why you have chosen to pursue this idea**\n",
        "\n",
        "The main idea is to determine whether NBA teams have higher points difference (per game) in home games than away games."
      ]
    },
    {
      "cell_type": "markdown",
      "metadata": {
        "id": "rm-71EzBN3LU"
      },
      "source": [
        "**2.1 What two groups you are comparing**\n",
        "\n",
        "Teams in the East and the West.\n",
        "\n",
        "\n",
        "**2.2 What you will be measuring (i.e., what your response variable will be)**.\n",
        "\n",
        "Home game points difference and away game points difference.\n",
        "\n",
        "\n",
        "**2.3 Is your response variable quantitative rather than categorical?**\n",
        "\n",
        "They are quantitative variable."
      ]
    },
    {
      "cell_type": "markdown",
      "metadata": {
        "id": "PsKSg0IyOrcW"
      },
      "source": [
        "**3. Make a prediction about what kind of difference you expect to see between your samples and WHY. Note that when we gather data in statistics in order to compare samples, we often hypothesize that the groups will differ in some way.**\n",
        "\n",
        "Teams are likely to perform better on both offensive and defensive side, i.e. having higher points difference (per game) in home games than away games.\n",
        "It is because players are more familiar with their home court and there are more fans supporting the home team.\n"
      ]
    },
    {
      "cell_type": "markdown",
      "metadata": {
        "id": "OOJeI5tgPbse"
      },
      "source": [
        "**4. Talk about how you will gather your data.**\n",
        "\n",
        "The data is collected online, from https://www.nbastuffer.com/2021-2022-nba-team-stats/\n"
      ]
    },
    {
      "cell_type": "markdown",
      "metadata": {
        "id": "hrsX7S3nPpfd"
      },
      "source": [
        "**5. If you had unlimited resources (time, money, staff, etc.) how would you collect your data described in Question 4?**\n",
        "\n",
        "I will collect the data for more seasons, in order to increase the sample size."
      ]
    },
    {
      "cell_type": "markdown",
      "metadata": {
        "id": "61jDKrK6SPwK"
      },
      "source": [
        "## Questions"
      ]
    },
    {
      "cell_type": "markdown",
      "metadata": {
        "id": "a-i8XdLUQK1y"
      },
      "source": [
        "**1. Tell us what groups you want to compare in the dataset.**\n",
        "\n",
        "PTS DIFF (HOME) and PTS DIFF (AWAY)\n",
        "\n",
        "Note: PTS DIFF means Points Difference (per game)"
      ]
    },
    {
      "cell_type": "markdown",
      "metadata": {
        "id": "Br3SjMTGQuoG"
      },
      "source": [
        "**2. Print first 5 records of each group, respectively.**\n",
        "\n",
        "**3. Any other data description and visualization you want to add.**\n",
        "\n",
        "The above 2 questions will be addressed below."
      ]
    },
    {
      "cell_type": "markdown",
      "metadata": {
        "id": "TD4MjX85vaDe"
      },
      "source": [
        "# Basic infomation of the dataset"
      ]
    },
    {
      "cell_type": "code",
      "execution_count": null,
      "metadata": {
        "colab": {
          "base_uri": "https://localhost:8080/"
        },
        "id": "UyRn6Ynxf2x-",
        "outputId": "a17e668e-0e76-4d2a-bb92-62db077394c6"
      },
      "outputs": [
        {
          "output_type": "stream",
          "name": "stdout",
          "text": [
            "Drive already mounted at /content/drive; to attempt to forcibly remount, call drive.mount(\"/content/drive\", force_remount=True).\n",
            "   RANK       TEAM  GP  PTS DIFF (HOME)  PTS DIFF (AWAY) Conference  Playoff\n",
            "0     1    Atlanta  82              5.0             -1.9       East     True\n",
            "1     2     Boston  82              7.0              7.6       East     True\n",
            "2     3   Brooklyn  82             -2.1              3.6       East     True\n",
            "3     4  Charlotte  82              1.5             -0.5       East    False\n",
            "4     5    Chicago  82              2.4             -3.2       East     True\n"
          ]
        }
      ],
      "source": [
        "folder_link = 'https://docs.google.com/spreadsheets/d/1_zJ1aF3EmZCzK4U-HtVehUbNGLcE5HxY/edit?usp=share_link&ouid=111253361511764571765&rtpof=true&sd=true'\n",
        "\n",
        "from google.colab import drive\n",
        "drive.mount('/content/drive')\n",
        "\n",
        "file_path = '/content/drive/My Drive/STAT1013/NBA-2122-Team-Stat 2.0.xlsx'\n",
        "\n",
        "import pandas as pd\n",
        "df = pd.read_excel(file_path)\n",
        "\n",
        "print(df.head())"
      ]
    },
    {
      "cell_type": "code",
      "execution_count": null,
      "metadata": {
        "colab": {
          "base_uri": "https://localhost:8080/",
          "height": 300
        },
        "id": "XrpZRu56ZQgM",
        "outputId": "0d3a33de-c6ad-4197-ea47-dea9fe0dd752"
      },
      "outputs": [
        {
          "data": {
            "text/html": [
              "\n",
              "  <div id=\"df-66ebb849-4361-4a9b-ab1e-ed24bfe60c19\">\n",
              "    <div class=\"colab-df-container\">\n",
              "      <div>\n",
              "<style scoped>\n",
              "    .dataframe tbody tr th:only-of-type {\n",
              "        vertical-align: middle;\n",
              "    }\n",
              "\n",
              "    .dataframe tbody tr th {\n",
              "        vertical-align: top;\n",
              "    }\n",
              "\n",
              "    .dataframe thead th {\n",
              "        text-align: right;\n",
              "    }\n",
              "</style>\n",
              "<table border=\"1\" class=\"dataframe\">\n",
              "  <thead>\n",
              "    <tr style=\"text-align: right;\">\n",
              "      <th></th>\n",
              "      <th>RANK</th>\n",
              "      <th>GP</th>\n",
              "      <th>PTS DIFF (HOME)</th>\n",
              "      <th>PTS DIFF (AWAY)</th>\n",
              "    </tr>\n",
              "  </thead>\n",
              "  <tbody>\n",
              "    <tr>\n",
              "      <th>count</th>\n",
              "      <td>30.000000</td>\n",
              "      <td>30.0</td>\n",
              "      <td>30.000000</td>\n",
              "      <td>30.000000</td>\n",
              "    </tr>\n",
              "    <tr>\n",
              "      <th>mean</th>\n",
              "      <td>15.500000</td>\n",
              "      <td>82.0</td>\n",
              "      <td>1.733333</td>\n",
              "      <td>-1.723333</td>\n",
              "    </tr>\n",
              "    <tr>\n",
              "      <th>std</th>\n",
              "      <td>8.803408</td>\n",
              "      <td>0.0</td>\n",
              "      <td>5.095795</td>\n",
              "      <td>5.181644</td>\n",
              "    </tr>\n",
              "    <tr>\n",
              "      <th>min</th>\n",
              "      <td>1.000000</td>\n",
              "      <td>82.0</td>\n",
              "      <td>-8.100000</td>\n",
              "      <td>-12.700000</td>\n",
              "    </tr>\n",
              "    <tr>\n",
              "      <th>25%</th>\n",
              "      <td>8.250000</td>\n",
              "      <td>82.0</td>\n",
              "      <td>-1.275000</td>\n",
              "      <td>-6.050000</td>\n",
              "    </tr>\n",
              "    <tr>\n",
              "      <th>50%</th>\n",
              "      <td>15.500000</td>\n",
              "      <td>82.0</td>\n",
              "      <td>2.400000</td>\n",
              "      <td>0.000000</td>\n",
              "    </tr>\n",
              "    <tr>\n",
              "      <th>75%</th>\n",
              "      <td>22.750000</td>\n",
              "      <td>82.0</td>\n",
              "      <td>5.000000</td>\n",
              "      <td>2.175000</td>\n",
              "    </tr>\n",
              "    <tr>\n",
              "      <th>max</th>\n",
              "      <td>30.000000</td>\n",
              "      <td>82.0</td>\n",
              "      <td>9.900000</td>\n",
              "      <td>7.600000</td>\n",
              "    </tr>\n",
              "  </tbody>\n",
              "</table>\n",
              "</div>\n",
              "      <button class=\"colab-df-convert\" onclick=\"convertToInteractive('df-66ebb849-4361-4a9b-ab1e-ed24bfe60c19')\"\n",
              "              title=\"Convert this dataframe to an interactive table.\"\n",
              "              style=\"display:none;\">\n",
              "        \n",
              "  <svg xmlns=\"http://www.w3.org/2000/svg\" height=\"24px\"viewBox=\"0 0 24 24\"\n",
              "       width=\"24px\">\n",
              "    <path d=\"M0 0h24v24H0V0z\" fill=\"none\"/>\n",
              "    <path d=\"M18.56 5.44l.94 2.06.94-2.06 2.06-.94-2.06-.94-.94-2.06-.94 2.06-2.06.94zm-11 1L8.5 8.5l.94-2.06 2.06-.94-2.06-.94L8.5 2.5l-.94 2.06-2.06.94zm10 10l.94 2.06.94-2.06 2.06-.94-2.06-.94-.94-2.06-.94 2.06-2.06.94z\"/><path d=\"M17.41 7.96l-1.37-1.37c-.4-.4-.92-.59-1.43-.59-.52 0-1.04.2-1.43.59L10.3 9.45l-7.72 7.72c-.78.78-.78 2.05 0 2.83L4 21.41c.39.39.9.59 1.41.59.51 0 1.02-.2 1.41-.59l7.78-7.78 2.81-2.81c.8-.78.8-2.07 0-2.86zM5.41 20L4 18.59l7.72-7.72 1.47 1.35L5.41 20z\"/>\n",
              "  </svg>\n",
              "      </button>\n",
              "      \n",
              "  <style>\n",
              "    .colab-df-container {\n",
              "      display:flex;\n",
              "      flex-wrap:wrap;\n",
              "      gap: 12px;\n",
              "    }\n",
              "\n",
              "    .colab-df-convert {\n",
              "      background-color: #E8F0FE;\n",
              "      border: none;\n",
              "      border-radius: 50%;\n",
              "      cursor: pointer;\n",
              "      display: none;\n",
              "      fill: #1967D2;\n",
              "      height: 32px;\n",
              "      padding: 0 0 0 0;\n",
              "      width: 32px;\n",
              "    }\n",
              "\n",
              "    .colab-df-convert:hover {\n",
              "      background-color: #E2EBFA;\n",
              "      box-shadow: 0px 1px 2px rgba(60, 64, 67, 0.3), 0px 1px 3px 1px rgba(60, 64, 67, 0.15);\n",
              "      fill: #174EA6;\n",
              "    }\n",
              "\n",
              "    [theme=dark] .colab-df-convert {\n",
              "      background-color: #3B4455;\n",
              "      fill: #D2E3FC;\n",
              "    }\n",
              "\n",
              "    [theme=dark] .colab-df-convert:hover {\n",
              "      background-color: #434B5C;\n",
              "      box-shadow: 0px 1px 3px 1px rgba(0, 0, 0, 0.15);\n",
              "      filter: drop-shadow(0px 1px 2px rgba(0, 0, 0, 0.3));\n",
              "      fill: #FFFFFF;\n",
              "    }\n",
              "  </style>\n",
              "\n",
              "      <script>\n",
              "        const buttonEl =\n",
              "          document.querySelector('#df-66ebb849-4361-4a9b-ab1e-ed24bfe60c19 button.colab-df-convert');\n",
              "        buttonEl.style.display =\n",
              "          google.colab.kernel.accessAllowed ? 'block' : 'none';\n",
              "\n",
              "        async function convertToInteractive(key) {\n",
              "          const element = document.querySelector('#df-66ebb849-4361-4a9b-ab1e-ed24bfe60c19');\n",
              "          const dataTable =\n",
              "            await google.colab.kernel.invokeFunction('convertToInteractive',\n",
              "                                                     [key], {});\n",
              "          if (!dataTable) return;\n",
              "\n",
              "          const docLinkHtml = 'Like what you see? Visit the ' +\n",
              "            '<a target=\"_blank\" href=https://colab.research.google.com/notebooks/data_table.ipynb>data table notebook</a>'\n",
              "            + ' to learn more about interactive tables.';\n",
              "          element.innerHTML = '';\n",
              "          dataTable['output_type'] = 'display_data';\n",
              "          await google.colab.output.renderOutput(dataTable, element);\n",
              "          const docLink = document.createElement('div');\n",
              "          docLink.innerHTML = docLinkHtml;\n",
              "          element.appendChild(docLink);\n",
              "        }\n",
              "      </script>\n",
              "    </div>\n",
              "  </div>\n",
              "  "
            ],
            "text/plain": [
              "            RANK    GP  PTS DIFF (HOME)  PTS DIFF (AWAY)\n",
              "count  30.000000  30.0        30.000000        30.000000\n",
              "mean   15.500000  82.0         1.733333        -1.723333\n",
              "std     8.803408   0.0         5.095795         5.181644\n",
              "min     1.000000  82.0        -8.100000       -12.700000\n",
              "25%     8.250000  82.0        -1.275000        -6.050000\n",
              "50%    15.500000  82.0         2.400000         0.000000\n",
              "75%    22.750000  82.0         5.000000         2.175000\n",
              "max    30.000000  82.0         9.900000         7.600000"
            ]
          },
          "execution_count": 43,
          "metadata": {},
          "output_type": "execute_result"
        }
      ],
      "source": [
        "df.describe()"
      ]
    },
    {
      "cell_type": "code",
      "execution_count": null,
      "metadata": {
        "colab": {
          "base_uri": "https://localhost:8080/"
        },
        "id": "M2c6XkrHavWG",
        "outputId": "47035a2e-fae6-406e-a92b-8595af92e258"
      },
      "outputs": [
        {
          "name": "stdout",
          "output_type": "stream",
          "text": [
            "<class 'pandas.core.frame.DataFrame'>\n",
            "RangeIndex: 30 entries, 0 to 29\n",
            "Data columns (total 7 columns):\n",
            " #   Column           Non-Null Count  Dtype  \n",
            "---  ------           --------------  -----  \n",
            " 0   RANK             30 non-null     int64  \n",
            " 1   TEAM             30 non-null     object \n",
            " 2   GP               30 non-null     int64  \n",
            " 3   PTS DIFF (HOME)  30 non-null     float64\n",
            " 4   PTS DIFF (AWAY)  30 non-null     float64\n",
            " 5   Conference       30 non-null     object \n",
            " 6   Playoff          30 non-null     bool   \n",
            "dtypes: bool(1), float64(2), int64(2), object(2)\n",
            "memory usage: 1.6+ KB\n"
          ]
        }
      ],
      "source": [
        "df.info()"
      ]
    },
    {
      "cell_type": "code",
      "execution_count": null,
      "metadata": {
        "colab": {
          "base_uri": "https://localhost:8080/",
          "height": 303
        },
        "id": "cymyZtTjT-VB",
        "outputId": "7191fce7-fe98-4f11-94f9-4edec7f4b009"
      },
      "outputs": [
        {
          "name": "stdout",
          "output_type": "stream",
          "text": [
            "                              The description of all the data\n",
            "\n"
          ]
        },
        {
          "data": {
            "text/html": [
              "\n",
              "  <div id=\"df-f1adb2c1-959d-4cc0-a354-7ca075af3d66\">\n",
              "    <div class=\"colab-df-container\">\n",
              "      <div>\n",
              "<style scoped>\n",
              "    .dataframe tbody tr th:only-of-type {\n",
              "        vertical-align: middle;\n",
              "    }\n",
              "\n",
              "    .dataframe tbody tr th {\n",
              "        vertical-align: top;\n",
              "    }\n",
              "\n",
              "    .dataframe thead th {\n",
              "        text-align: right;\n",
              "    }\n",
              "</style>\n",
              "<table border=\"1\" class=\"dataframe\">\n",
              "  <thead>\n",
              "    <tr style=\"text-align: right;\">\n",
              "      <th></th>\n",
              "      <th>count</th>\n",
              "      <th>unique</th>\n",
              "      <th>top</th>\n",
              "      <th>freq</th>\n",
              "      <th>mean</th>\n",
              "      <th>std</th>\n",
              "      <th>min</th>\n",
              "      <th>25%</th>\n",
              "      <th>50%</th>\n",
              "      <th>75%</th>\n",
              "      <th>max</th>\n",
              "    </tr>\n",
              "  </thead>\n",
              "  <tbody>\n",
              "    <tr>\n",
              "      <th>RANK</th>\n",
              "      <td>30.0</td>\n",
              "      <td>NaN</td>\n",
              "      <td>NaN</td>\n",
              "      <td>NaN</td>\n",
              "      <td>15.5</td>\n",
              "      <td>8.803408</td>\n",
              "      <td>1.0</td>\n",
              "      <td>8.25</td>\n",
              "      <td>15.5</td>\n",
              "      <td>22.75</td>\n",
              "      <td>30.0</td>\n",
              "    </tr>\n",
              "    <tr>\n",
              "      <th>TEAM</th>\n",
              "      <td>30</td>\n",
              "      <td>30</td>\n",
              "      <td>Atlanta</td>\n",
              "      <td>1</td>\n",
              "      <td>NaN</td>\n",
              "      <td>NaN</td>\n",
              "      <td>NaN</td>\n",
              "      <td>NaN</td>\n",
              "      <td>NaN</td>\n",
              "      <td>NaN</td>\n",
              "      <td>NaN</td>\n",
              "    </tr>\n",
              "    <tr>\n",
              "      <th>GP</th>\n",
              "      <td>30.0</td>\n",
              "      <td>NaN</td>\n",
              "      <td>NaN</td>\n",
              "      <td>NaN</td>\n",
              "      <td>82.0</td>\n",
              "      <td>0.0</td>\n",
              "      <td>82.0</td>\n",
              "      <td>82.0</td>\n",
              "      <td>82.0</td>\n",
              "      <td>82.0</td>\n",
              "      <td>82.0</td>\n",
              "    </tr>\n",
              "    <tr>\n",
              "      <th>PTS DIFF (HOME)</th>\n",
              "      <td>30.0</td>\n",
              "      <td>NaN</td>\n",
              "      <td>NaN</td>\n",
              "      <td>NaN</td>\n",
              "      <td>1.733333</td>\n",
              "      <td>5.095795</td>\n",
              "      <td>-8.1</td>\n",
              "      <td>-1.275</td>\n",
              "      <td>2.4</td>\n",
              "      <td>5.0</td>\n",
              "      <td>9.9</td>\n",
              "    </tr>\n",
              "    <tr>\n",
              "      <th>PTS DIFF (AWAY)</th>\n",
              "      <td>30.0</td>\n",
              "      <td>NaN</td>\n",
              "      <td>NaN</td>\n",
              "      <td>NaN</td>\n",
              "      <td>-1.723333</td>\n",
              "      <td>5.181644</td>\n",
              "      <td>-12.7</td>\n",
              "      <td>-6.05</td>\n",
              "      <td>0.0</td>\n",
              "      <td>2.175</td>\n",
              "      <td>7.6</td>\n",
              "    </tr>\n",
              "    <tr>\n",
              "      <th>Conference</th>\n",
              "      <td>30</td>\n",
              "      <td>2</td>\n",
              "      <td>East</td>\n",
              "      <td>15</td>\n",
              "      <td>NaN</td>\n",
              "      <td>NaN</td>\n",
              "      <td>NaN</td>\n",
              "      <td>NaN</td>\n",
              "      <td>NaN</td>\n",
              "      <td>NaN</td>\n",
              "      <td>NaN</td>\n",
              "    </tr>\n",
              "    <tr>\n",
              "      <th>Playoff</th>\n",
              "      <td>30</td>\n",
              "      <td>2</td>\n",
              "      <td>True</td>\n",
              "      <td>16</td>\n",
              "      <td>NaN</td>\n",
              "      <td>NaN</td>\n",
              "      <td>NaN</td>\n",
              "      <td>NaN</td>\n",
              "      <td>NaN</td>\n",
              "      <td>NaN</td>\n",
              "      <td>NaN</td>\n",
              "    </tr>\n",
              "  </tbody>\n",
              "</table>\n",
              "</div>\n",
              "      <button class=\"colab-df-convert\" onclick=\"convertToInteractive('df-f1adb2c1-959d-4cc0-a354-7ca075af3d66')\"\n",
              "              title=\"Convert this dataframe to an interactive table.\"\n",
              "              style=\"display:none;\">\n",
              "        \n",
              "  <svg xmlns=\"http://www.w3.org/2000/svg\" height=\"24px\"viewBox=\"0 0 24 24\"\n",
              "       width=\"24px\">\n",
              "    <path d=\"M0 0h24v24H0V0z\" fill=\"none\"/>\n",
              "    <path d=\"M18.56 5.44l.94 2.06.94-2.06 2.06-.94-2.06-.94-.94-2.06-.94 2.06-2.06.94zm-11 1L8.5 8.5l.94-2.06 2.06-.94-2.06-.94L8.5 2.5l-.94 2.06-2.06.94zm10 10l.94 2.06.94-2.06 2.06-.94-2.06-.94-.94-2.06-.94 2.06-2.06.94z\"/><path d=\"M17.41 7.96l-1.37-1.37c-.4-.4-.92-.59-1.43-.59-.52 0-1.04.2-1.43.59L10.3 9.45l-7.72 7.72c-.78.78-.78 2.05 0 2.83L4 21.41c.39.39.9.59 1.41.59.51 0 1.02-.2 1.41-.59l7.78-7.78 2.81-2.81c.8-.78.8-2.07 0-2.86zM5.41 20L4 18.59l7.72-7.72 1.47 1.35L5.41 20z\"/>\n",
              "  </svg>\n",
              "      </button>\n",
              "      \n",
              "  <style>\n",
              "    .colab-df-container {\n",
              "      display:flex;\n",
              "      flex-wrap:wrap;\n",
              "      gap: 12px;\n",
              "    }\n",
              "\n",
              "    .colab-df-convert {\n",
              "      background-color: #E8F0FE;\n",
              "      border: none;\n",
              "      border-radius: 50%;\n",
              "      cursor: pointer;\n",
              "      display: none;\n",
              "      fill: #1967D2;\n",
              "      height: 32px;\n",
              "      padding: 0 0 0 0;\n",
              "      width: 32px;\n",
              "    }\n",
              "\n",
              "    .colab-df-convert:hover {\n",
              "      background-color: #E2EBFA;\n",
              "      box-shadow: 0px 1px 2px rgba(60, 64, 67, 0.3), 0px 1px 3px 1px rgba(60, 64, 67, 0.15);\n",
              "      fill: #174EA6;\n",
              "    }\n",
              "\n",
              "    [theme=dark] .colab-df-convert {\n",
              "      background-color: #3B4455;\n",
              "      fill: #D2E3FC;\n",
              "    }\n",
              "\n",
              "    [theme=dark] .colab-df-convert:hover {\n",
              "      background-color: #434B5C;\n",
              "      box-shadow: 0px 1px 3px 1px rgba(0, 0, 0, 0.15);\n",
              "      filter: drop-shadow(0px 1px 2px rgba(0, 0, 0, 0.3));\n",
              "      fill: #FFFFFF;\n",
              "    }\n",
              "  </style>\n",
              "\n",
              "      <script>\n",
              "        const buttonEl =\n",
              "          document.querySelector('#df-f1adb2c1-959d-4cc0-a354-7ca075af3d66 button.colab-df-convert');\n",
              "        buttonEl.style.display =\n",
              "          google.colab.kernel.accessAllowed ? 'block' : 'none';\n",
              "\n",
              "        async function convertToInteractive(key) {\n",
              "          const element = document.querySelector('#df-f1adb2c1-959d-4cc0-a354-7ca075af3d66');\n",
              "          const dataTable =\n",
              "            await google.colab.kernel.invokeFunction('convertToInteractive',\n",
              "                                                     [key], {});\n",
              "          if (!dataTable) return;\n",
              "\n",
              "          const docLinkHtml = 'Like what you see? Visit the ' +\n",
              "            '<a target=\"_blank\" href=https://colab.research.google.com/notebooks/data_table.ipynb>data table notebook</a>'\n",
              "            + ' to learn more about interactive tables.';\n",
              "          element.innerHTML = '';\n",
              "          dataTable['output_type'] = 'display_data';\n",
              "          await google.colab.output.renderOutput(dataTable, element);\n",
              "          const docLink = document.createElement('div');\n",
              "          docLink.innerHTML = docLinkHtml;\n",
              "          element.appendChild(docLink);\n",
              "        }\n",
              "      </script>\n",
              "    </div>\n",
              "  </div>\n",
              "  "
            ],
            "text/plain": [
              "                count unique      top freq      mean       std   min    25%  \\\n",
              "RANK             30.0    NaN      NaN  NaN      15.5  8.803408   1.0   8.25   \n",
              "TEAM               30     30  Atlanta    1       NaN       NaN   NaN    NaN   \n",
              "GP               30.0    NaN      NaN  NaN      82.0       0.0  82.0   82.0   \n",
              "PTS DIFF (HOME)  30.0    NaN      NaN  NaN  1.733333  5.095795  -8.1 -1.275   \n",
              "PTS DIFF (AWAY)  30.0    NaN      NaN  NaN -1.723333  5.181644 -12.7  -6.05   \n",
              "Conference         30      2     East   15       NaN       NaN   NaN    NaN   \n",
              "Playoff            30      2     True   16       NaN       NaN   NaN    NaN   \n",
              "\n",
              "                  50%    75%   max  \n",
              "RANK             15.5  22.75  30.0  \n",
              "TEAM              NaN    NaN   NaN  \n",
              "GP               82.0   82.0  82.0  \n",
              "PTS DIFF (HOME)   2.4    5.0   9.9  \n",
              "PTS DIFF (AWAY)   0.0  2.175   7.6  \n",
              "Conference        NaN    NaN   NaN  \n",
              "Playoff           NaN    NaN   NaN  "
            ]
          },
          "execution_count": 45,
          "metadata": {},
          "output_type": "execute_result"
        }
      ],
      "source": [
        "print(\"                              The description of all the data\")\n",
        "print(\"\")\n",
        "df.describe(include='all').T"
      ]
    },
    {
      "cell_type": "code",
      "execution_count": null,
      "metadata": {
        "colab": {
          "base_uri": "https://localhost:8080/"
        },
        "id": "upiACYNt-CvQ",
        "outputId": "5df26b52-e11b-44df-b49e-0163ab7dac68"
      },
      "outputs": [
        {
          "name": "stdout",
          "output_type": "stream",
          "text": [
            "The first 5 records of each group:\n",
            "0    5.0\n",
            "1    7.0\n",
            "2   -2.1\n",
            "3    1.5\n",
            "4    2.4\n",
            "Name: PTS DIFF (HOME), dtype: float64\n",
            "0   -1.9\n",
            "1    7.6\n",
            "2    3.6\n",
            "3   -0.5\n",
            "4   -3.2\n",
            "Name: PTS DIFF (AWAY), dtype: float64\n"
          ]
        }
      ],
      "source": [
        "# Print first 5 records of each group, respectively.\n",
        "print(\"The first 5 records of each group:\")\n",
        "\n",
        "print(df['PTS DIFF (HOME)'].head())\n",
        "print(df['PTS DIFF (AWAY)'].head())"
      ]
    },
    {
      "cell_type": "code",
      "execution_count": null,
      "metadata": {
        "colab": {
          "base_uri": "https://localhost:8080/",
          "height": 147
        },
        "id": "q-8ZoaAlTVGe",
        "outputId": "654ab8c6-8ac9-4ffc-c837-551c1f56019d"
      },
      "outputs": [
        {
          "name": "stdout",
          "output_type": "stream",
          "text": [
            "                 Basic information of two groups of data\n",
            "\n"
          ]
        },
        {
          "data": {
            "text/html": [
              "\n",
              "  <div id=\"df-2eca2632-0ae3-484f-a7fc-887d56ca6ed0\">\n",
              "    <div class=\"colab-df-container\">\n",
              "      <div>\n",
              "<style scoped>\n",
              "    .dataframe tbody tr th:only-of-type {\n",
              "        vertical-align: middle;\n",
              "    }\n",
              "\n",
              "    .dataframe tbody tr th {\n",
              "        vertical-align: top;\n",
              "    }\n",
              "\n",
              "    .dataframe thead th {\n",
              "        text-align: right;\n",
              "    }\n",
              "</style>\n",
              "<table border=\"1\" class=\"dataframe\">\n",
              "  <thead>\n",
              "    <tr style=\"text-align: right;\">\n",
              "      <th></th>\n",
              "      <th>count</th>\n",
              "      <th>mean</th>\n",
              "      <th>std</th>\n",
              "      <th>min</th>\n",
              "      <th>25%</th>\n",
              "      <th>50%</th>\n",
              "      <th>75%</th>\n",
              "      <th>max</th>\n",
              "    </tr>\n",
              "  </thead>\n",
              "  <tbody>\n",
              "    <tr>\n",
              "      <th>PTS DIFF (HOME)</th>\n",
              "      <td>30.0</td>\n",
              "      <td>1.733333</td>\n",
              "      <td>5.095795</td>\n",
              "      <td>-8.1</td>\n",
              "      <td>-1.275</td>\n",
              "      <td>2.4</td>\n",
              "      <td>5.000</td>\n",
              "      <td>9.9</td>\n",
              "    </tr>\n",
              "    <tr>\n",
              "      <th>PTS DIFF (AWAY)</th>\n",
              "      <td>30.0</td>\n",
              "      <td>-1.723333</td>\n",
              "      <td>5.181644</td>\n",
              "      <td>-12.7</td>\n",
              "      <td>-6.050</td>\n",
              "      <td>0.0</td>\n",
              "      <td>2.175</td>\n",
              "      <td>7.6</td>\n",
              "    </tr>\n",
              "  </tbody>\n",
              "</table>\n",
              "</div>\n",
              "      <button class=\"colab-df-convert\" onclick=\"convertToInteractive('df-2eca2632-0ae3-484f-a7fc-887d56ca6ed0')\"\n",
              "              title=\"Convert this dataframe to an interactive table.\"\n",
              "              style=\"display:none;\">\n",
              "        \n",
              "  <svg xmlns=\"http://www.w3.org/2000/svg\" height=\"24px\"viewBox=\"0 0 24 24\"\n",
              "       width=\"24px\">\n",
              "    <path d=\"M0 0h24v24H0V0z\" fill=\"none\"/>\n",
              "    <path d=\"M18.56 5.44l.94 2.06.94-2.06 2.06-.94-2.06-.94-.94-2.06-.94 2.06-2.06.94zm-11 1L8.5 8.5l.94-2.06 2.06-.94-2.06-.94L8.5 2.5l-.94 2.06-2.06.94zm10 10l.94 2.06.94-2.06 2.06-.94-2.06-.94-.94-2.06-.94 2.06-2.06.94z\"/><path d=\"M17.41 7.96l-1.37-1.37c-.4-.4-.92-.59-1.43-.59-.52 0-1.04.2-1.43.59L10.3 9.45l-7.72 7.72c-.78.78-.78 2.05 0 2.83L4 21.41c.39.39.9.59 1.41.59.51 0 1.02-.2 1.41-.59l7.78-7.78 2.81-2.81c.8-.78.8-2.07 0-2.86zM5.41 20L4 18.59l7.72-7.72 1.47 1.35L5.41 20z\"/>\n",
              "  </svg>\n",
              "      </button>\n",
              "      \n",
              "  <style>\n",
              "    .colab-df-container {\n",
              "      display:flex;\n",
              "      flex-wrap:wrap;\n",
              "      gap: 12px;\n",
              "    }\n",
              "\n",
              "    .colab-df-convert {\n",
              "      background-color: #E8F0FE;\n",
              "      border: none;\n",
              "      border-radius: 50%;\n",
              "      cursor: pointer;\n",
              "      display: none;\n",
              "      fill: #1967D2;\n",
              "      height: 32px;\n",
              "      padding: 0 0 0 0;\n",
              "      width: 32px;\n",
              "    }\n",
              "\n",
              "    .colab-df-convert:hover {\n",
              "      background-color: #E2EBFA;\n",
              "      box-shadow: 0px 1px 2px rgba(60, 64, 67, 0.3), 0px 1px 3px 1px rgba(60, 64, 67, 0.15);\n",
              "      fill: #174EA6;\n",
              "    }\n",
              "\n",
              "    [theme=dark] .colab-df-convert {\n",
              "      background-color: #3B4455;\n",
              "      fill: #D2E3FC;\n",
              "    }\n",
              "\n",
              "    [theme=dark] .colab-df-convert:hover {\n",
              "      background-color: #434B5C;\n",
              "      box-shadow: 0px 1px 3px 1px rgba(0, 0, 0, 0.15);\n",
              "      filter: drop-shadow(0px 1px 2px rgba(0, 0, 0, 0.3));\n",
              "      fill: #FFFFFF;\n",
              "    }\n",
              "  </style>\n",
              "\n",
              "      <script>\n",
              "        const buttonEl =\n",
              "          document.querySelector('#df-2eca2632-0ae3-484f-a7fc-887d56ca6ed0 button.colab-df-convert');\n",
              "        buttonEl.style.display =\n",
              "          google.colab.kernel.accessAllowed ? 'block' : 'none';\n",
              "\n",
              "        async function convertToInteractive(key) {\n",
              "          const element = document.querySelector('#df-2eca2632-0ae3-484f-a7fc-887d56ca6ed0');\n",
              "          const dataTable =\n",
              "            await google.colab.kernel.invokeFunction('convertToInteractive',\n",
              "                                                     [key], {});\n",
              "          if (!dataTable) return;\n",
              "\n",
              "          const docLinkHtml = 'Like what you see? Visit the ' +\n",
              "            '<a target=\"_blank\" href=https://colab.research.google.com/notebooks/data_table.ipynb>data table notebook</a>'\n",
              "            + ' to learn more about interactive tables.';\n",
              "          element.innerHTML = '';\n",
              "          dataTable['output_type'] = 'display_data';\n",
              "          await google.colab.output.renderOutput(dataTable, element);\n",
              "          const docLink = document.createElement('div');\n",
              "          docLink.innerHTML = docLinkHtml;\n",
              "          element.appendChild(docLink);\n",
              "        }\n",
              "      </script>\n",
              "    </div>\n",
              "  </div>\n",
              "  "
            ],
            "text/plain": [
              "                 count      mean       std   min    25%  50%    75%  max\n",
              "PTS DIFF (HOME)   30.0  1.733333  5.095795  -8.1 -1.275  2.4  5.000  9.9\n",
              "PTS DIFF (AWAY)   30.0 -1.723333  5.181644 -12.7 -6.050  0.0  2.175  7.6"
            ]
          },
          "execution_count": 47,
          "metadata": {},
          "output_type": "execute_result"
        }
      ],
      "source": [
        "print(\"                 Basic information of two groups of data\")\n",
        "print(\"\")\n",
        "df.describe(include='float').T"
      ]
    },
    {
      "cell_type": "code",
      "execution_count": null,
      "metadata": {
        "colab": {
          "base_uri": "https://localhost:8080/"
        },
        "id": "f8nfTIlvrCdX",
        "outputId": "31b7e384-235e-4436-c0da-207c91f4b958"
      },
      "outputs": [
        {
          "name": "stdout",
          "output_type": "stream",
          "text": [
            "Mean of Playoff Teams' Points Difference per game (both Home and Away):\n",
            "5.15\n",
            "1.6062499999999997\n",
            "\n",
            "Median of Non-playoff Teams' Points Difference per game (both Home and Away):\n",
            "-2.1714285714285717\n",
            "-5.528571428571428\n"
          ]
        }
      ],
      "source": [
        "print(\"Mean of Playoff Teams' Points Difference per game (both Home and Away):\")\n",
        "\n",
        "print(df[df['Playoff'] == True]['PTS DIFF (HOME)'].mean())\n",
        "print(df[df['Playoff'] == True]['PTS DIFF (AWAY)'].mean())\n",
        "\n",
        "print(\"\")\n",
        "print(\"Median of Non-playoff Teams' Points Difference per game (both Home and Away):\")\n",
        "\n",
        "print(df[df['Playoff'] == False]['PTS DIFF (HOME)'].mean())\n",
        "print(df[df['Playoff'] == False]['PTS DIFF (AWAY)'].mean())"
      ]
    },
    {
      "cell_type": "code",
      "execution_count": null,
      "metadata": {
        "colab": {
          "base_uri": "https://localhost:8080/"
        },
        "id": "Z_5oKUDluGgj",
        "outputId": "b516dcfb-746f-4ba6-b07a-af51ee8910c2"
      },
      "outputs": [
        {
          "name": "stdout",
          "output_type": "stream",
          "text": [
            "Home Games' Points Difference per game of Playoff Teams\n",
            "Playoff\n",
            "False   -2.171429\n",
            "True     5.150000\n",
            "Name: PTS DIFF (HOME), dtype: float64\n"
          ]
        }
      ],
      "source": [
        "print(\"Home Games' Points Difference per game of Playoff Teams\")\n",
        "print(df.groupby('Playoff')['PTS DIFF (HOME)'].mean())"
      ]
    },
    {
      "cell_type": "code",
      "execution_count": null,
      "metadata": {
        "colab": {
          "base_uri": "https://localhost:8080/"
        },
        "id": "9fISlbypucLA",
        "outputId": "20a19a88-6681-4d98-c7c7-51a8d875fc0c"
      },
      "outputs": [
        {
          "name": "stdout",
          "output_type": "stream",
          "text": [
            "Away Games' Points Difference per game of Playoff Teams\n",
            "Playoff\n",
            "False   -5.528571\n",
            "True     1.606250\n",
            "Name: PTS DIFF (AWAY), dtype: float64\n"
          ]
        }
      ],
      "source": [
        "print(\"Away Games' Points Difference per game of Playoff Teams\")\n",
        "print(df.groupby('Playoff')['PTS DIFF (AWAY)'].mean())"
      ]
    },
    {
      "cell_type": "code",
      "execution_count": null,
      "metadata": {
        "colab": {
          "base_uri": "https://localhost:8080/"
        },
        "id": "Jl_81scmusCo",
        "outputId": "22b85c55-5ba5-42b1-a8e3-0023b965bfb7"
      },
      "outputs": [
        {
          "name": "stdout",
          "output_type": "stream",
          "text": [
            "Conditional (min, max, median, mean, std) of PTS DIFF (HOME) | Playoff\n",
            "\n",
            "         min  max  median      mean       std\n",
            "Playoff                                      \n",
            "False   -8.1  4.4   -1.05 -2.171429  3.766947\n",
            "True    -2.1  9.9    5.00  5.150000  3.350025\n"
          ]
        }
      ],
      "source": [
        "print('Conditional (min, max, median, mean, std) of PTS DIFF (HOME) | Playoff')\n",
        "print('')\n",
        "print(df.groupby('Playoff')['PTS DIFF (HOME)'].agg(['min', 'max', 'median', 'mean', 'std']))"
      ]
    },
    {
      "cell_type": "code",
      "execution_count": null,
      "metadata": {
        "colab": {
          "base_uri": "https://localhost:8080/"
        },
        "id": "G0anONXovCux",
        "outputId": "dacac811-3272-4979-ee0e-1f104db4873a"
      },
      "outputs": [
        {
          "name": "stdout",
          "output_type": "stream",
          "text": [
            "Conditional (min, max, median, mean, std) of PTS DIFF (AWAY) | Playoff\n",
            "\n",
            "         min  max  median      mean       std\n",
            "Playoff                                      \n",
            "False   -8.1  4.4   -1.05 -2.171429  3.766947\n",
            "True    -2.1  9.9    5.00  5.150000  3.350025\n"
          ]
        }
      ],
      "source": [
        "print('Conditional (min, max, median, mean, std) of PTS DIFF (AWAY) | Playoff')\n",
        "print('')\n",
        "print(df.groupby('Playoff')['PTS DIFF (HOME)'].agg(['min', 'max', 'median', 'mean', 'std']))"
      ]
    },
    {
      "cell_type": "markdown",
      "metadata": {
        "id": "nXoUsElzvzHP"
      },
      "source": [
        "# Data Visualisation"
      ]
    },
    {
      "cell_type": "markdown",
      "metadata": {
        "id": "P4Gcruve0zdH"
      },
      "source": [
        "## One Variable"
      ]
    },
    {
      "cell_type": "code",
      "execution_count": null,
      "metadata": {
        "id": "2vmFUf1ev7LG"
      },
      "outputs": [],
      "source": [
        "import matplotlib.pyplot as plt\n",
        "import seaborn as sns\n",
        "plt.rcParams['figure.figsize'] = [10, 5]\n",
        "\n",
        "sns.set()"
      ]
    },
    {
      "cell_type": "code",
      "execution_count": null,
      "metadata": {
        "colab": {
          "base_uri": "https://localhost:8080/"
        },
        "id": "9d9zqwqQzgKf",
        "outputId": "efd130df-c0c6-426a-aed5-86a2e367b0a9"
      },
      "outputs": [
        {
          "data": {
            "image/png": "[encoded data removed]",
            "text/plain": [
              "<Figure size 720x360 with 1 Axes>"
            ]
          },
          "metadata": {},
          "output_type": "display_data"
        }
      ],
      "source": [
        "sns.histplot(x=df['PTS DIFF (HOME)'])\n",
        "plt.show()"
      ]
    },
    {
      "cell_type": "code",
      "execution_count": null,
      "metadata": {
        "colab": {
          "base_uri": "https://localhost:8080/"
        },
        "id": "7CHP-BWbzqQV",
        "outputId": "efb94c2f-e7f7-452a-94e4-eb6f7a7b14e0"
      },
      "outputs": [
        {
          "data": {
            "image/png": "[encoded data removed]",
            "text/plain": [
              "<Figure size 720x360 with 1 Axes>"
            ]
          },
          "metadata": {},
          "output_type": "display_data"
        }
      ],
      "source": [
        "sns.histplot(df, x='PTS DIFF (AWAY)')\n",
        "plt.show()"
      ]
    },
    {
      "cell_type": "code",
      "execution_count": null,
      "metadata": {
        "colab": {
          "base_uri": "https://localhost:8080/"
        },
        "id": "ilEuWHKrz0-l",
        "outputId": "9426b24b-643b-4451-cbed-32dccf67de49"
      },
      "outputs": [
        {
          "data": {
            "image/png": "[encoded data removed]",
            "text/plain": [
              "<Figure size 720x360 with 1 Axes>"
            ]
          },
          "metadata": {},
          "output_type": "display_data"
        }
      ],
      "source": [
        "sns.stripplot(x=df['PTS DIFF (HOME)'])\n",
        "plt.show()"
      ]
    },
    {
      "cell_type": "code",
      "execution_count": null,
      "metadata": {
        "colab": {
          "base_uri": "https://localhost:8080/"
        },
        "id": "ARTLer_x0O-5",
        "outputId": "b05e20a9-e499-4da0-945e-16a5b137a41b"
      },
      "outputs": [
        {
          "data": {
            "image/png": "[encoded data removed]",
            "text/plain": [
              "<Figure size 720x360 with 1 Axes>"
            ]
          },
          "metadata": {},
          "output_type": "display_data"
        }
      ],
      "source": [
        "sns.stripplot(x=df['PTS DIFF (AWAY)'])\n",
        "plt.show()"
      ]
    },
    {
      "cell_type": "code",
      "execution_count": null,
      "metadata": {
        "colab": {
          "base_uri": "https://localhost:8080/"
        },
        "id": "7raoCdMT0i9X",
        "outputId": "53c9e1ff-471a-4a3a-8c9c-d594d0f40f6d"
      },
      "outputs": [
        {
          "data": {
            "image/png": "[encoded data removed]",
            "text/plain": [
              "<Figure size 720x360 with 1 Axes>"
            ]
          },
          "metadata": {},
          "output_type": "display_data"
        }
      ],
      "source": [
        "sns.boxplot(x=df[\"PTS DIFF (HOME)\"])\n",
        "plt.show()"
      ]
    },
    {
      "cell_type": "code",
      "execution_count": null,
      "metadata": {
        "colab": {
          "base_uri": "https://localhost:8080/"
        },
        "id": "J8TxiGRW0rsH",
        "outputId": "5e454d03-4ff2-4d45-8ca8-649cd3103eb3"
      },
      "outputs": [
        {
          "data": {
            "image/png": "[encoded data removed]",
            "text/plain": [
              "<Figure size 720x360 with 1 Axes>"
            ]
          },
          "metadata": {},
          "output_type": "display_data"
        }
      ],
      "source": [
        "sns.boxplot(x=df[\"PTS DIFF (AWAY)\"])\n",
        "plt.show()"
      ]
    },
    {
      "cell_type": "markdown",
      "metadata": {
        "id": "RQe5aF1s03Bv"
      },
      "source": [
        "## Two Variable"
      ]
    },
    {
      "cell_type": "code",
      "execution_count": null,
      "metadata": {
        "colab": {
          "base_uri": "https://localhost:8080/",
          "height": 339
        },
        "id": "Q8HGspP_UoCm",
        "outputId": "e4706aaf-2f2e-4e80-bf81-f0fa7891c023"
      },
      "outputs": [
        {
          "output_type": "display_data",
          "data": {
            "text/plain": [
              "<Figure size 720x360 with 1 Axes>"
            ],
            "image/png": "[encoded data removed]"
          },
          "metadata": {}
        }
      ],
      "source": [
        "sns.histplot(df, x='PTS DIFF (HOME)', y='PTS DIFF (AWAY)')\n",
        "plt.show()"
      ]
    },
    {
      "cell_type": "code",
      "execution_count": null,
      "metadata": {
        "colab": {
          "base_uri": "https://localhost:8080/"
        },
        "id": "OC09ihTpWPO8",
        "outputId": "4ebc26d9-843b-478b-8124-d13a30818d03"
      },
      "outputs": [
        {
          "data": {
            "image/png": "[encoded data removed]",
            "text/plain": [
              "<Figure size 720x360 with 1 Axes>"
            ]
          },
          "metadata": {},
          "output_type": "display_data"
        }
      ],
      "source": [
        "sns.stripplot(data=df, x='PTS DIFF (HOME)', y='PTS DIFF (AWAY)')\n",
        "plt.show()\n"
      ]
    },
    {
      "cell_type": "code",
      "execution_count": null,
      "metadata": {
        "colab": {
          "base_uri": "https://localhost:8080/"
        },
        "id": "jIFjLM1WXETC",
        "outputId": "f56bdf61-a8ff-4bf4-d317-43119cfb11ed"
      },
      "outputs": [
        {
          "data": {
            "image/png": "[encoded data removed]",
            "text/plain": [
              "<Figure size 720x360 with 1 Axes>"
            ]
          },
          "metadata": {},
          "output_type": "display_data"
        }
      ],
      "source": [
        "x = df[\"PTS DIFF (HOME)\"]\n",
        "y = df[\"PTS DIFF (AWAY)\"]\n",
        "\n",
        "plt.scatter(x, y)\n",
        "\n",
        "plt.xlabel('PTS DIFF (HOME)')\n",
        "plt.ylabel('PTS DIFF (AWAY)')\n",
        "\n",
        "plt.show()"
      ]
    },
    {
      "cell_type": "code",
      "execution_count": null,
      "metadata": {
        "colab": {
          "base_uri": "https://localhost:8080/"
        },
        "id": "FO58D5wN06aL",
        "outputId": "0562ea84-69d6-4cf9-85e8-f99d8b41aca2"
      },
      "outputs": [
        {
          "data": {
            "image/png": "[encoded data removed]",
            "text/plain": [
              "<Figure size 720x360 with 1 Axes>"
            ]
          },
          "metadata": {},
          "output_type": "display_data"
        }
      ],
      "source": [
        "sns.histplot(df, x='PTS DIFF (HOME)', hue='Playoff')\n",
        "plt.show()"
      ]
    },
    {
      "cell_type": "code",
      "execution_count": null,
      "metadata": {
        "colab": {
          "base_uri": "https://localhost:8080/",
          "height": 339
        },
        "id": "SbFcJ9lNYNyM",
        "outputId": "6640696b-3440-4895-a530-408456b82a57"
      },
      "outputs": [
        {
          "output_type": "display_data",
          "data": {
            "text/plain": [
              "<Figure size 720x360 with 1 Axes>"
            ],
            "image/png": "[encoded data removed]"
          },
          "metadata": {}
        }
      ],
      "source": [
        "sns.histplot(df, x='PTS DIFF (AWAY)', hue='Playoff')\n",
        "plt.show()"
      ]
    },
    {
      "cell_type": "code",
      "execution_count": null,
      "metadata": {
        "colab": {
          "base_uri": "https://localhost:8080/"
        },
        "id": "MC50lj1TWC-x",
        "outputId": "54fadcfb-300e-47e2-c5a5-33ba438242c3"
      },
      "outputs": [
        {
          "data": {
            "image/png": "[encoded data removed]",
            "text/plain": [
              "<Figure size 720x360 with 1 Axes>"
            ]
          },
          "metadata": {},
          "output_type": "display_data"
        }
      ],
      "source": [
        "sns.stripplot(data=df, x=\"PTS DIFF (HOME)\", y=\"Playoff\")\n",
        "plt.show()"
      ]
    },
    {
      "cell_type": "code",
      "execution_count": null,
      "metadata": {
        "colab": {
          "base_uri": "https://localhost:8080/"
        },
        "id": "TN5WF9P9YRRd",
        "outputId": "0cfa8d48-7b3c-400e-9838-406b06d0ec51"
      },
      "outputs": [
        {
          "data": {
            "image/png": "[encoded data removed]",
            "text/plain": [
              "<Figure size 720x360 with 1 Axes>"
            ]
          },
          "metadata": {},
          "output_type": "display_data"
        }
      ],
      "source": [
        "sns.stripplot(data=df, x=\"PTS DIFF (AWAY)\", y=\"Playoff\")\n",
        "plt.show()"
      ]
    },
    {
      "cell_type": "markdown",
      "metadata": {
        "id": "VhcZJai_Xaod"
      },
      "source": [
        "## Three Variables"
      ]
    },
    {
      "cell_type": "code",
      "execution_count": null,
      "metadata": {
        "colab": {
          "background_save": true,
          "base_uri": "https://localhost:8080/",
          "height": 339
        },
        "id": "rIKXRk9sXdDA",
        "outputId": "20642b73-6cbd-4ab6-a5a0-dd0460f7b412"
      },
      "outputs": [
        {
          "data": {
            "image/png": "[encoded data removed]",
            "text/plain": [
              "<Figure size 720x360 with 1 Axes>"
            ]
          },
          "metadata": {},
          "output_type": "display_data"
        }
      ],
      "source": [
        "sns.stripplot(data=df, x=\"PTS DIFF (HOME)\", y=\"Playoff\", hue='Conference', dodge=True, alpha=.50, zorder=1)\n",
        "plt.show()"
      ]
    },
    {
      "cell_type": "code",
      "execution_count": null,
      "metadata": {
        "colab": {
          "base_uri": "https://localhost:8080/",
          "height": 339
        },
        "id": "D9mPWrMFVcz-",
        "outputId": "00db4c9c-db45-47d4-d9cb-c4b31130e480"
      },
      "outputs": [
        {
          "output_type": "display_data",
          "data": {
            "text/plain": [
              "<Figure size 720x360 with 1 Axes>"
            ],
            "image/png": "[encoded data removed]"
          },
          "metadata": {}
        }
      ],
      "source": [
        "sns.stripplot(data=df, x=\"PTS DIFF (AWAY)\", y=\"Playoff\", hue='Conference', dodge=True, alpha=.50, zorder=1)\n",
        "plt.show()"
      ]
    }
  ],
  "metadata": {
    "colab": {
      "provenance": []
    },
    "kernelspec": {
      "display_name": "Python 3",
      "name": "python3"
    },
    "language_info": {
      "name": "python"
    }
  },
  "nbformat": 4,
  "nbformat_minor": 0
}