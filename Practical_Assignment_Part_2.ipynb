{
  "nbformat": 4,
  "nbformat_minor": 0,
  "metadata": {
    "colab": {
      "provenance": []
    },
    "kernelspec": {
      "name": "python3",
      "display_name": "Python 3"
    },
    "language_info": {
      "name": "python"
    }
  },
  "cells": [
    {
      "cell_type": "markdown",
      "source": [
        "# STAT1013 Final Project"
      ],
      "metadata": {
        "id": "CTKnNi7mUwX9"
      }
    },
    {
      "cell_type": "markdown",
      "source": [
        "## Introduction"
      ],
      "metadata": {
        "id": "0vdB2YrL3rda"
      }
    },
    {
      "cell_type": "markdown",
      "source": [
        "### How did you come up with the idea?\n"
      ],
      "metadata": {
        "id": "tZPSEGoT3wlP"
      }
    },
    {
      "cell_type": "markdown",
      "source": [
        "The main idea is to determine whether NBA teams have higher points difference (per game) in home games than away games. \n",
        "\n",
        "I want to analyse it since I want to know is there difference for NBA teams for play at home and away. "
      ],
      "metadata": {
        "id": "s27lcFF44Bo2"
      }
    },
    {
      "cell_type": "markdown",
      "source": [
        "### What are your hypotheses?"
      ],
      "metadata": {
        "id": "pa8UFApR31pB"
      }
    },
    {
      "cell_type": "markdown",
      "source": [
        "Home teams are likely to perform better on both offensive and defensive side, i.e. having higher points difference (per game) in home games than away games.\n",
        "\n"
      ],
      "metadata": {
        "id": "qjhqa-lL3-S_"
      }
    },
    {
      "cell_type": "markdown",
      "source": [
        "### Hypothesis"
      ],
      "metadata": {
        "id": "GXt8aAZlGu2c"
      }
    },
    {
      "cell_type": "markdown",
      "source": [
        "Let $\\delta$ denotes the mean of difference between points difference in home games and away games, then the hypotheses are stated as follows:\n",
        "\n",
        "$\\mu_A$: Mean Points Difference in home games\n",
        "\n",
        "$\\mu_B$: Mean Points Difference in away games\n",
        "\n",
        "\n",
        "$H_0: \\delta = \\mu_B - \\mu_A = 0$\n",
        "\n",
        "$H_A: \\delta = \\mu_A - \\mu_B > 0$"
      ],
      "metadata": {
        "id": "gMGvElJMGweu"
      }
    },
    {
      "cell_type": "markdown",
      "source": [
        "### What is the reason for your hypotheses?"
      ],
      "metadata": {
        "id": "BKY2uCIGIb1w"
      }
    },
    {
      "cell_type": "markdown",
      "source": [
        "Players are more familiar with their home court and there are more fans supporting the home team."
      ],
      "metadata": {
        "id": "WT0iOKDDIkcJ"
      }
    },
    {
      "cell_type": "markdown",
      "source": [
        "### How did you gather your data?"
      ],
      "metadata": {
        "id": "qvxK8UI2JA92"
      }
    },
    {
      "cell_type": "markdown",
      "source": [
        "The data is collected online, from https://www.nbastuffer.com/2021-2022-nba-team-stats/"
      ],
      "metadata": {
        "id": "TdJ6nwiHJDi_"
      }
    },
    {
      "cell_type": "markdown",
      "source": [
        "## Import data and packages"
      ],
      "metadata": {
        "id": "McafBXNeNqvS"
      }
    },
    {
      "cell_type": "code",
      "source": [
        "import pandas as pd\n",
        "import matplotlib.pyplot as plt\n",
        "import seaborn as sns\n",
        "import scipy.stats as stats\n",
        "from scipy.stats import t\n",
        "from scipy.stats import ttest_ind\n",
        "from google.colab import drive"
      ],
      "metadata": {
        "id": "y8WykaAsNzWC"
      },
      "execution_count": 41,
      "outputs": []
    },
    {
      "cell_type": "code",
      "source": [
        "folder_link = 'https://docs.google.com/spreadsheets/d/1_zJ1aF3EmZCzK4U-HtVehUbNGLcE5HxY/edit?usp=share_link&ouid=111253361511764571765&rtpof=true&sd=true'\n",
        "drive.mount('/content/drive')\n",
        "file_path = '/content/drive/My Drive/STAT1013/NBA-2122-Team-Stat 2.0.xlsx'\n",
        "\n",
        "df = pd.read_excel(file_path)"
      ],
      "metadata": {
        "colab": {
          "base_uri": "https://localhost:8080/"
        },
        "id": "QpgjCE8YNvao",
        "outputId": "79595002-13cf-49d5-d9b5-051efe92ef62"
      },
      "execution_count": 2,
      "outputs": [
        {
          "output_type": "stream",
          "name": "stdout",
          "text": [
            "Mounted at /content/drive\n"
          ]
        }
      ]
    },
    {
      "cell_type": "code",
      "source": [
        "print(df.head())"
      ],
      "metadata": {
        "colab": {
          "base_uri": "https://localhost:8080/"
        },
        "id": "XC88jAgz5RbM",
        "outputId": "9e9ca10f-c57d-4374-faad-f5b67c0f9709"
      },
      "execution_count": 3,
      "outputs": [
        {
          "output_type": "stream",
          "name": "stdout",
          "text": [
            "   RANK       TEAM  GP  PTS DIFF (HOME)  PTS DIFF (AWAY) Conference  Playoff\n",
            "0     1    Atlanta  82              5.0             -1.9       East     True\n",
            "1     2     Boston  82              7.0              7.6       East     True\n",
            "2     3   Brooklyn  82             -2.1              3.6       East     True\n",
            "3     4  Charlotte  82              1.5             -0.5       East    False\n",
            "4     5    Chicago  82              2.4             -3.2       East     True\n"
          ]
        }
      ]
    },
    {
      "cell_type": "markdown",
      "source": [
        "## Graphs and Descriptive Statistics"
      ],
      "metadata": {
        "id": "wWPq7DwLJVE4"
      }
    },
    {
      "cell_type": "markdown",
      "source": [
        "### At least two appropriate graphs (boxplot, violinplot, …) have been created and interpreted for each sample."
      ],
      "metadata": {
        "id": "gwZl46ZUJYYX"
      }
    },
    {
      "cell_type": "code",
      "source": [
        "sns.set()\n",
        "plt.rcParams['figure.figsize'] = [10, 5]"
      ],
      "metadata": {
        "id": "GVFsq4toO_NE"
      },
      "execution_count": null,
      "outputs": []
    },
    {
      "cell_type": "code",
      "source": [
        "sns.histplot(x=df['PTS DIFF (HOME)'],kde=True)\n",
        "plt.show()"
      ],
      "metadata": {
        "colab": {
          "base_uri": "https://localhost:8080/",
          "height": 473
        },
        "id": "xdTNuB_8NjXk",
        "outputId": "18ce29e0-0820-45ef-a7a6-2344c9852f46"
      },
      "execution_count": null,
      "outputs": [
        {
          "output_type": "display_data",
          "data": {
            "text/plain": [
              "<Figure size 1000x500 with 1 Axes>"
            ],
            "image/png": "[encoded data removed]"
          },
          "metadata": {}
        }
      ]
    },
    {
      "cell_type": "code",
      "source": [
        "sns.histplot(x=df['PTS DIFF (AWAY)'],kde=True)\n",
        "plt.show()"
      ],
      "metadata": {
        "colab": {
          "base_uri": "https://localhost:8080/",
          "height": 473
        },
        "id": "i5_M31nIO72s",
        "outputId": "68e3d151-9a27-4302-9282-306ac4eeeed4"
      },
      "execution_count": null,
      "outputs": [
        {
          "output_type": "display_data",
          "data": {
            "text/plain": [
              "<Figure size 1000x500 with 1 Axes>"
            ],
            "image/png": "[encoded data removed]"
          },
          "metadata": {}
        }
      ]
    },
    {
      "cell_type": "code",
      "source": [
        "plt.rcParams['figure.figsize'] = [5, 3]"
      ],
      "metadata": {
        "id": "HIvKShJLQGIV"
      },
      "execution_count": null,
      "outputs": []
    },
    {
      "cell_type": "code",
      "source": [
        "sns.boxplot(x=df['PTS DIFF (HOME)'])\n",
        "plt.show()"
      ],
      "metadata": {
        "colab": {
          "base_uri": "https://localhost:8080/",
          "height": 319
        },
        "id": "6RzKePvlP_-U",
        "outputId": "2424c7e5-2999-4e8f-9c85-fb56933e7643"
      },
      "execution_count": null,
      "outputs": [
        {
          "output_type": "display_data",
          "data": {
            "text/plain": [
              "<Figure size 500x300 with 1 Axes>"
            ],
            "image/png": "[encoded data removed]"
          },
          "metadata": {}
        }
      ]
    },
    {
      "cell_type": "code",
      "source": [
        "sns.boxplot(x=df['PTS DIFF (AWAY)'])\n",
        "plt.show()"
      ],
      "metadata": {
        "colab": {
          "base_uri": "https://localhost:8080/",
          "height": 319
        },
        "id": "5TX_mji6QLA0",
        "outputId": "b87b505f-728a-4c65-bfbd-ff3459c9f08e"
      },
      "execution_count": null,
      "outputs": [
        {
          "output_type": "display_data",
          "data": {
            "text/plain": [
              "<Figure size 500x300 with 1 Axes>"
            ],
            "image/png": "[encoded data removed]"
          },
          "metadata": {}
        }
      ]
    },
    {
      "cell_type": "code",
      "source": [
        "sns.violinplot(x=df['PTS DIFF (HOME)'])\n",
        "plt.show()"
      ],
      "metadata": {
        "colab": {
          "base_uri": "https://localhost:8080/",
          "height": 319
        },
        "id": "Qy8BADZEQTEt",
        "outputId": "a3db0f7f-a6e0-49f5-8717-5903e931977b"
      },
      "execution_count": null,
      "outputs": [
        {
          "output_type": "display_data",
          "data": {
            "text/plain": [
              "<Figure size 500x300 with 1 Axes>"
            ],
            "image/png": "[encoded data removed]"
          },
          "metadata": {}
        }
      ]
    },
    {
      "cell_type": "code",
      "source": [
        "sns.violinplot(x=df['PTS DIFF (AWAY)'])\n",
        "plt.show()"
      ],
      "metadata": {
        "colab": {
          "base_uri": "https://localhost:8080/",
          "height": 319
        },
        "id": "xOKQVuTQQZ52",
        "outputId": "10afe4c1-4972-4ee4-b7d3-6e5329f034ab"
      },
      "execution_count": null,
      "outputs": [
        {
          "output_type": "display_data",
          "data": {
            "text/plain": [
              "<Figure size 500x300 with 1 Axes>"
            ],
            "image/png": "[encoded data removed]"
          },
          "metadata": {}
        }
      ]
    },
    {
      "cell_type": "markdown",
      "source": [
        "**Interpretation:**\n",
        "\n",
        "From the above graphs, we can see that the median of point difference in home games is 2.5 while that of away games is 0. \n",
        "\n",
        "Besides, the highest of mean of point difference in home games is higher, and the lowest mean of point difference in home games is lower.\n",
        "\n",
        "Also, there is a larger percentage of data for home games has positive mean of point difference.\n",
        "\n",
        "Therefore, it is very likely that NBA teams are playing better at home than away."
      ],
      "metadata": {
        "id": "7zAaID_4QdLK"
      }
    },
    {
      "cell_type": "markdown",
      "source": [
        "### Appropriate summary statistics (measurements of center and spread) are provided for each sample and the summary statistics are used to describe the data in words \n",
        "\n",
        "---\n",
        "\n",
        "### Similarities and differences between the samples"
      ],
      "metadata": {
        "id": "-s0SjW8NTJSF"
      }
    },
    {
      "cell_type": "code",
      "source": [
        "print(\"                              The description of all the data\")\n",
        "print(\"\")\n",
        "df.describe(include='all')"
      ],
      "metadata": {
        "colab": {
          "base_uri": "https://localhost:8080/",
          "height": 429
        },
        "id": "gvFR1IPWTZp3",
        "outputId": "e37cecc9-86cc-4182-ed11-c42b3df296d8"
      },
      "execution_count": null,
      "outputs": [
        {
          "output_type": "stream",
          "name": "stdout",
          "text": [
            "                              The description of all the data\n",
            "\n"
          ]
        },
        {
          "output_type": "execute_result",
          "data": {
            "text/plain": [
              "             RANK     TEAM    GP  PTS DIFF (HOME)  PTS DIFF (AWAY) Conference  \\\n",
              "count   30.000000       30  30.0        30.000000        30.000000         30   \n",
              "unique        NaN       30   NaN              NaN              NaN          2   \n",
              "top           NaN  Atlanta   NaN              NaN              NaN       East   \n",
              "freq          NaN        1   NaN              NaN              NaN         15   \n",
              "mean    15.500000      NaN  82.0         1.733333        -1.723333        NaN   \n",
              "std      8.803408      NaN   0.0         5.095795         5.181644        NaN   \n",
              "min      1.000000      NaN  82.0        -8.100000       -12.700000        NaN   \n",
              "25%      8.250000      NaN  82.0        -1.275000        -6.050000        NaN   \n",
              "50%     15.500000      NaN  82.0         2.400000         0.000000        NaN   \n",
              "75%     22.750000      NaN  82.0         5.000000         2.175000        NaN   \n",
              "max     30.000000      NaN  82.0         9.900000         7.600000        NaN   \n",
              "\n",
              "       Playoff  \n",
              "count       30  \n",
              "unique       2  \n",
              "top       True  \n",
              "freq        16  \n",
              "mean       NaN  \n",
              "std        NaN  \n",
              "min        NaN  \n",
              "25%        NaN  \n",
              "50%        NaN  \n",
              "75%        NaN  \n",
              "max        NaN  "
            ],
            "text/html": [
              "\n",
              "  <div id=\"df-3273e2ad-92a2-4093-992c-efc657f67b51\">\n",
              "    <div class=\"colab-df-container\">\n",
              "      <div>\n",
              "<style scoped>\n",
              "    .dataframe tbody tr th:only-of-type {\n",
              "        vertical-align: middle;\n",
              "    }\n",
              "\n",
              "    .dataframe tbody tr th {\n",
              "        vertical-align: top;\n",
              "    }\n",
              "\n",
              "    .dataframe thead th {\n",
              "        text-align: right;\n",
              "    }\n",
              "</style>\n",
              "<table border=\"1\" class=\"dataframe\">\n",
              "  <thead>\n",
              "    <tr style=\"text-align: right;\">\n",
              "      <th></th>\n",
              "      <th>RANK</th>\n",
              "      <th>TEAM</th>\n",
              "      <th>GP</th>\n",
              "      <th>PTS DIFF (HOME)</th>\n",
              "      <th>PTS DIFF (AWAY)</th>\n",
              "      <th>Conference</th>\n",
              "      <th>Playoff</th>\n",
              "    </tr>\n",
              "  </thead>\n",
              "  <tbody>\n",
              "    <tr>\n",
              "      <th>count</th>\n",
              "      <td>30.000000</td>\n",
              "      <td>30</td>\n",
              "      <td>30.0</td>\n",
              "      <td>30.000000</td>\n",
              "      <td>30.000000</td>\n",
              "      <td>30</td>\n",
              "      <td>30</td>\n",
              "    </tr>\n",
              "    <tr>\n",
              "      <th>unique</th>\n",
              "      <td>NaN</td>\n",
              "      <td>30</td>\n",
              "      <td>NaN</td>\n",
              "      <td>NaN</td>\n",
              "      <td>NaN</td>\n",
              "      <td>2</td>\n",
              "      <td>2</td>\n",
              "    </tr>\n",
              "    <tr>\n",
              "      <th>top</th>\n",
              "      <td>NaN</td>\n",
              "      <td>Atlanta</td>\n",
              "      <td>NaN</td>\n",
              "      <td>NaN</td>\n",
              "      <td>NaN</td>\n",
              "      <td>East</td>\n",
              "      <td>True</td>\n",
              "    </tr>\n",
              "    <tr>\n",
              "      <th>freq</th>\n",
              "      <td>NaN</td>\n",
              "      <td>1</td>\n",
              "      <td>NaN</td>\n",
              "      <td>NaN</td>\n",
              "      <td>NaN</td>\n",
              "      <td>15</td>\n",
              "      <td>16</td>\n",
              "    </tr>\n",
              "    <tr>\n",
              "      <th>mean</th>\n",
              "      <td>15.500000</td>\n",
              "      <td>NaN</td>\n",
              "      <td>82.0</td>\n",
              "      <td>1.733333</td>\n",
              "      <td>-1.723333</td>\n",
              "      <td>NaN</td>\n",
              "      <td>NaN</td>\n",
              "    </tr>\n",
              "    <tr>\n",
              "      <th>std</th>\n",
              "      <td>8.803408</td>\n",
              "      <td>NaN</td>\n",
              "      <td>0.0</td>\n",
              "      <td>5.095795</td>\n",
              "      <td>5.181644</td>\n",
              "      <td>NaN</td>\n",
              "      <td>NaN</td>\n",
              "    </tr>\n",
              "    <tr>\n",
              "      <th>min</th>\n",
              "      <td>1.000000</td>\n",
              "      <td>NaN</td>\n",
              "      <td>82.0</td>\n",
              "      <td>-8.100000</td>\n",
              "      <td>-12.700000</td>\n",
              "      <td>NaN</td>\n",
              "      <td>NaN</td>\n",
              "    </tr>\n",
              "    <tr>\n",
              "      <th>25%</th>\n",
              "      <td>8.250000</td>\n",
              "      <td>NaN</td>\n",
              "      <td>82.0</td>\n",
              "      <td>-1.275000</td>\n",
              "      <td>-6.050000</td>\n",
              "      <td>NaN</td>\n",
              "      <td>NaN</td>\n",
              "    </tr>\n",
              "    <tr>\n",
              "      <th>50%</th>\n",
              "      <td>15.500000</td>\n",
              "      <td>NaN</td>\n",
              "      <td>82.0</td>\n",
              "      <td>2.400000</td>\n",
              "      <td>0.000000</td>\n",
              "      <td>NaN</td>\n",
              "      <td>NaN</td>\n",
              "    </tr>\n",
              "    <tr>\n",
              "      <th>75%</th>\n",
              "      <td>22.750000</td>\n",
              "      <td>NaN</td>\n",
              "      <td>82.0</td>\n",
              "      <td>5.000000</td>\n",
              "      <td>2.175000</td>\n",
              "      <td>NaN</td>\n",
              "      <td>NaN</td>\n",
              "    </tr>\n",
              "    <tr>\n",
              "      <th>max</th>\n",
              "      <td>30.000000</td>\n",
              "      <td>NaN</td>\n",
              "      <td>82.0</td>\n",
              "      <td>9.900000</td>\n",
              "      <td>7.600000</td>\n",
              "      <td>NaN</td>\n",
              "      <td>NaN</td>\n",
              "    </tr>\n",
              "  </tbody>\n",
              "</table>\n",
              "</div>\n",
              "      <button class=\"colab-df-convert\" onclick=\"convertToInteractive('df-3273e2ad-92a2-4093-992c-efc657f67b51')\"\n",
              "              title=\"Convert this dataframe to an interactive table.\"\n",
              "              style=\"display:none;\">\n",
              "        \n",
              "  <svg xmlns=\"http://www.w3.org/2000/svg\" height=\"24px\"viewBox=\"0 0 24 24\"\n",
              "       width=\"24px\">\n",
              "    <path d=\"M0 0h24v24H0V0z\" fill=\"none\"/>\n",
              "    <path d=\"M18.56 5.44l.94 2.06.94-2.06 2.06-.94-2.06-.94-.94-2.06-.94 2.06-2.06.94zm-11 1L8.5 8.5l.94-2.06 2.06-.94-2.06-.94L8.5 2.5l-.94 2.06-2.06.94zm10 10l.94 2.06.94-2.06 2.06-.94-2.06-.94-.94-2.06-.94 2.06-2.06.94z\"/><path d=\"M17.41 7.96l-1.37-1.37c-.4-.4-.92-.59-1.43-.59-.52 0-1.04.2-1.43.59L10.3 9.45l-7.72 7.72c-.78.78-.78 2.05 0 2.83L4 21.41c.39.39.9.59 1.41.59.51 0 1.02-.2 1.41-.59l7.78-7.78 2.81-2.81c.8-.78.8-2.07 0-2.86zM5.41 20L4 18.59l7.72-7.72 1.47 1.35L5.41 20z\"/>\n",
              "  </svg>\n",
              "      </button>\n",
              "      \n",
              "  <style>\n",
              "    .colab-df-container {\n",
              "      display:flex;\n",
              "      flex-wrap:wrap;\n",
              "      gap: 12px;\n",
              "    }\n",
              "\n",
              "    .colab-df-convert {\n",
              "      background-color: #E8F0FE;\n",
              "      border: none;\n",
              "      border-radius: 50%;\n",
              "      cursor: pointer;\n",
              "      display: none;\n",
              "      fill: #1967D2;\n",
              "      height: 32px;\n",
              "      padding: 0 0 0 0;\n",
              "      width: 32px;\n",
              "    }\n",
              "\n",
              "    .colab-df-convert:hover {\n",
              "      background-color: #E2EBFA;\n",
              "      box-shadow: 0px 1px 2px rgba(60, 64, 67, 0.3), 0px 1px 3px 1px rgba(60, 64, 67, 0.15);\n",
              "      fill: #174EA6;\n",
              "    }\n",
              "\n",
              "    [theme=dark] .colab-df-convert {\n",
              "      background-color: #3B4455;\n",
              "      fill: #D2E3FC;\n",
              "    }\n",
              "\n",
              "    [theme=dark] .colab-df-convert:hover {\n",
              "      background-color: #434B5C;\n",
              "      box-shadow: 0px 1px 3px 1px rgba(0, 0, 0, 0.15);\n",
              "      filter: drop-shadow(0px 1px 2px rgba(0, 0, 0, 0.3));\n",
              "      fill: #FFFFFF;\n",
              "    }\n",
              "  </style>\n",
              "\n",
              "      <script>\n",
              "        const buttonEl =\n",
              "          document.querySelector('#df-3273e2ad-92a2-4093-992c-efc657f67b51 button.colab-df-convert');\n",
              "        buttonEl.style.display =\n",
              "          google.colab.kernel.accessAllowed ? 'block' : 'none';\n",
              "\n",
              "        async function convertToInteractive(key) {\n",
              "          const element = document.querySelector('#df-3273e2ad-92a2-4093-992c-efc657f67b51');\n",
              "          const dataTable =\n",
              "            await google.colab.kernel.invokeFunction('convertToInteractive',\n",
              "                                                     [key], {});\n",
              "          if (!dataTable) return;\n",
              "\n",
              "          const docLinkHtml = 'Like what you see? Visit the ' +\n",
              "            '<a target=\"_blank\" href=https://colab.research.google.com/notebooks/data_table.ipynb>data table notebook</a>'\n",
              "            + ' to learn more about interactive tables.';\n",
              "          element.innerHTML = '';\n",
              "          dataTable['output_type'] = 'display_data';\n",
              "          await google.colab.output.renderOutput(dataTable, element);\n",
              "          const docLink = document.createElement('div');\n",
              "          docLink.innerHTML = docLinkHtml;\n",
              "          element.appendChild(docLink);\n",
              "        }\n",
              "      </script>\n",
              "    </div>\n",
              "  </div>\n",
              "  "
            ]
          },
          "metadata": {},
          "execution_count": 24
        }
      ]
    },
    {
      "cell_type": "code",
      "source": [
        "print(\"                 Basic information of two groups of data\")\n",
        "print(\"\")\n",
        "df.describe(include='float').round(4).T\n"
      ],
      "metadata": {
        "colab": {
          "base_uri": "https://localhost:8080/",
          "height": 147
        },
        "id": "J5gMuh1XTpQQ",
        "outputId": "f50bd7de-07e1-41c4-d1d1-2a197b78543e"
      },
      "execution_count": null,
      "outputs": [
        {
          "output_type": "stream",
          "name": "stdout",
          "text": [
            "                 Basic information of two groups of data\n",
            "\n"
          ]
        },
        {
          "output_type": "execute_result",
          "data": {
            "text/plain": [
              "                 count    mean     std   min    25%  50%    75%  max\n",
              "PTS DIFF (HOME)   30.0  1.7333  5.0958  -8.1 -1.275  2.4  5.000  9.9\n",
              "PTS DIFF (AWAY)   30.0 -1.7233  5.1816 -12.7 -6.050  0.0  2.175  7.6"
            ],
            "text/html": [
              "\n",
              "  <div id=\"df-ef1bed7b-7434-4a49-bfe9-8dd743ba0a62\">\n",
              "    <div class=\"colab-df-container\">\n",
              "      <div>\n",
              "<style scoped>\n",
              "    .dataframe tbody tr th:only-of-type {\n",
              "        vertical-align: middle;\n",
              "    }\n",
              "\n",
              "    .dataframe tbody tr th {\n",
              "        vertical-align: top;\n",
              "    }\n",
              "\n",
              "    .dataframe thead th {\n",
              "        text-align: right;\n",
              "    }\n",
              "</style>\n",
              "<table border=\"1\" class=\"dataframe\">\n",
              "  <thead>\n",
              "    <tr style=\"text-align: right;\">\n",
              "      <th></th>\n",
              "      <th>count</th>\n",
              "      <th>mean</th>\n",
              "      <th>std</th>\n",
              "      <th>min</th>\n",
              "      <th>25%</th>\n",
              "      <th>50%</th>\n",
              "      <th>75%</th>\n",
              "      <th>max</th>\n",
              "    </tr>\n",
              "  </thead>\n",
              "  <tbody>\n",
              "    <tr>\n",
              "      <th>PTS DIFF (HOME)</th>\n",
              "      <td>30.0</td>\n",
              "      <td>1.7333</td>\n",
              "      <td>5.0958</td>\n",
              "      <td>-8.1</td>\n",
              "      <td>-1.275</td>\n",
              "      <td>2.4</td>\n",
              "      <td>5.000</td>\n",
              "      <td>9.9</td>\n",
              "    </tr>\n",
              "    <tr>\n",
              "      <th>PTS DIFF (AWAY)</th>\n",
              "      <td>30.0</td>\n",
              "      <td>-1.7233</td>\n",
              "      <td>5.1816</td>\n",
              "      <td>-12.7</td>\n",
              "      <td>-6.050</td>\n",
              "      <td>0.0</td>\n",
              "      <td>2.175</td>\n",
              "      <td>7.6</td>\n",
              "    </tr>\n",
              "  </tbody>\n",
              "</table>\n",
              "</div>\n",
              "      <button class=\"colab-df-convert\" onclick=\"convertToInteractive('df-ef1bed7b-7434-4a49-bfe9-8dd743ba0a62')\"\n",
              "              title=\"Convert this dataframe to an interactive table.\"\n",
              "              style=\"display:none;\">\n",
              "        \n",
              "  <svg xmlns=\"http://www.w3.org/2000/svg\" height=\"24px\"viewBox=\"0 0 24 24\"\n",
              "       width=\"24px\">\n",
              "    <path d=\"M0 0h24v24H0V0z\" fill=\"none\"/>\n",
              "    <path d=\"M18.56 5.44l.94 2.06.94-2.06 2.06-.94-2.06-.94-.94-2.06-.94 2.06-2.06.94zm-11 1L8.5 8.5l.94-2.06 2.06-.94-2.06-.94L8.5 2.5l-.94 2.06-2.06.94zm10 10l.94 2.06.94-2.06 2.06-.94-2.06-.94-.94-2.06-.94 2.06-2.06.94z\"/><path d=\"M17.41 7.96l-1.37-1.37c-.4-.4-.92-.59-1.43-.59-.52 0-1.04.2-1.43.59L10.3 9.45l-7.72 7.72c-.78.78-.78 2.05 0 2.83L4 21.41c.39.39.9.59 1.41.59.51 0 1.02-.2 1.41-.59l7.78-7.78 2.81-2.81c.8-.78.8-2.07 0-2.86zM5.41 20L4 18.59l7.72-7.72 1.47 1.35L5.41 20z\"/>\n",
              "  </svg>\n",
              "      </button>\n",
              "      \n",
              "  <style>\n",
              "    .colab-df-container {\n",
              "      display:flex;\n",
              "      flex-wrap:wrap;\n",
              "      gap: 12px;\n",
              "    }\n",
              "\n",
              "    .colab-df-convert {\n",
              "      background-color: #E8F0FE;\n",
              "      border: none;\n",
              "      border-radius: 50%;\n",
              "      cursor: pointer;\n",
              "      display: none;\n",
              "      fill: #1967D2;\n",
              "      height: 32px;\n",
              "      padding: 0 0 0 0;\n",
              "      width: 32px;\n",
              "    }\n",
              "\n",
              "    .colab-df-convert:hover {\n",
              "      background-color: #E2EBFA;\n",
              "      box-shadow: 0px 1px 2px rgba(60, 64, 67, 0.3), 0px 1px 3px 1px rgba(60, 64, 67, 0.15);\n",
              "      fill: #174EA6;\n",
              "    }\n",
              "\n",
              "    [theme=dark] .colab-df-convert {\n",
              "      background-color: #3B4455;\n",
              "      fill: #D2E3FC;\n",
              "    }\n",
              "\n",
              "    [theme=dark] .colab-df-convert:hover {\n",
              "      background-color: #434B5C;\n",
              "      box-shadow: 0px 1px 3px 1px rgba(0, 0, 0, 0.15);\n",
              "      filter: drop-shadow(0px 1px 2px rgba(0, 0, 0, 0.3));\n",
              "      fill: #FFFFFF;\n",
              "    }\n",
              "  </style>\n",
              "\n",
              "      <script>\n",
              "        const buttonEl =\n",
              "          document.querySelector('#df-ef1bed7b-7434-4a49-bfe9-8dd743ba0a62 button.colab-df-convert');\n",
              "        buttonEl.style.display =\n",
              "          google.colab.kernel.accessAllowed ? 'block' : 'none';\n",
              "\n",
              "        async function convertToInteractive(key) {\n",
              "          const element = document.querySelector('#df-ef1bed7b-7434-4a49-bfe9-8dd743ba0a62');\n",
              "          const dataTable =\n",
              "            await google.colab.kernel.invokeFunction('convertToInteractive',\n",
              "                                                     [key], {});\n",
              "          if (!dataTable) return;\n",
              "\n",
              "          const docLinkHtml = 'Like what you see? Visit the ' +\n",
              "            '<a target=\"_blank\" href=https://colab.research.google.com/notebooks/data_table.ipynb>data table notebook</a>'\n",
              "            + ' to learn more about interactive tables.';\n",
              "          element.innerHTML = '';\n",
              "          dataTable['output_type'] = 'display_data';\n",
              "          await google.colab.output.renderOutput(dataTable, element);\n",
              "          const docLink = document.createElement('div');\n",
              "          docLink.innerHTML = docLinkHtml;\n",
              "          element.appendChild(docLink);\n",
              "        }\n",
              "      </script>\n",
              "    </div>\n",
              "  </div>\n",
              "  "
            ]
          },
          "metadata": {},
          "execution_count": 28
        }
      ]
    },
    {
      "cell_type": "markdown",
      "source": [
        "**Mean:**\n",
        "\n",
        "$\\mu_A\\ = 1.7333$\n",
        "\n",
        "$\\mu_B\\ = -1.7233$\n",
        "\n",
        "\n",
        "> It shows that the home teams are more likely to score more than the away teams."
      ],
      "metadata": {
        "id": "G2-_gb4ZT1QA"
      }
    },
    {
      "cell_type": "markdown",
      "source": [
        "**Standard deviation:**\n",
        "\n",
        "Home: 5.0958\n",
        "\n",
        "Away: 5.1816\n",
        "\n",
        "> It shows that the mean points difference in away games are more spreaded.\n",
        "\n"
      ],
      "metadata": {
        "id": "eZ52x2aPVlCN"
      }
    },
    {
      "cell_type": "markdown",
      "source": [
        "**Minimum**\n",
        "\n",
        "Home: -8.1\n",
        "\n",
        "Away: -12.7\n",
        "\n",
        "\n",
        "> It shows that away games have lower mean point difference (perform worse)\n",
        "\n",
        "\n",
        "\n",
        "\n"
      ],
      "metadata": {
        "id": "Du10YhvFWta1"
      }
    },
    {
      "cell_type": "markdown",
      "source": [
        "**Maximum:**\n",
        "\n",
        "Home: 9.9\n",
        "\n",
        "Away: 7.6\n",
        "\n",
        "\n",
        "\n",
        ">  It shows that home games have higher mean point difference (perform better)"
      ],
      "metadata": {
        "id": "vXjwkN1HXGmw"
      }
    },
    {
      "cell_type": "markdown",
      "source": [
        "**Median:**\n",
        "\n",
        "Home: 2.4\n",
        "\n",
        "Away: 0.0\n",
        "\n",
        "> It shows that there is a larger percentage of teams have a positive mean point difference in home games that away games."
      ],
      "metadata": {
        "id": "bO83C0uNYH0b"
      }
    },
    {
      "cell_type": "markdown",
      "source": [
        "## Verifying Necessary Data Conditions"
      ],
      "metadata": {
        "id": "p-3cDvJ1ZoMo"
      }
    },
    {
      "cell_type": "markdown",
      "source": [
        "###**Normality:** \n",
        "\n",
        "The data should be approximately normally distributed. \n",
        "\n",
        "This condition can be checked by QQ plots.\n",
        "\n"
      ],
      "metadata": {
        "id": "4nRuXEGW6c_s"
      }
    },
    {
      "cell_type": "code",
      "source": [
        "dataHome = df[\"PTS DIFF (HOME)\"]\n",
        "stats.probplot(dataHome, dist=\"norm\", plot=plt)\n",
        "plt.show()"
      ],
      "metadata": {
        "colab": {
          "base_uri": "https://localhost:8080/",
          "height": 472
        },
        "id": "BhNTaG9M7teK",
        "outputId": "853d4735-8ed1-4a5d-ba22-96c5d6e30211"
      },
      "execution_count": 10,
      "outputs": [
        {
          "output_type": "display_data",
          "data": {
            "text/plain": [
              "<Figure size 640x480 with 1 Axes>"
            ],
            "image/png": "[encoded data removed]"
          },
          "metadata": {}
        }
      ]
    },
    {
      "cell_type": "code",
      "source": [
        "dataAway = df[\"PTS DIFF (AWAY)\"]\n",
        "stats.probplot(dataAway, dist=\"norm\", plot=plt)\n",
        "plt.show()"
      ],
      "metadata": {
        "colab": {
          "base_uri": "https://localhost:8080/",
          "height": 472
        },
        "id": "mvruOLfD8tXz",
        "outputId": "02fc86a8-8546-4d5b-e8eb-5e91fa240140"
      },
      "execution_count": 11,
      "outputs": [
        {
          "output_type": "display_data",
          "data": {
            "text/plain": [
              "<Figure size 640x480 with 1 Axes>"
            ],
            "image/png": "[encoded data removed]"
          },
          "metadata": {}
        }
      ]
    },
    {
      "cell_type": "markdown",
      "source": [
        "**Interpretation:**\n",
        "\n",
        "As the points at both QQ plot are approximately lying on the stright line from normal distribution, and they are not deviate significantly from it.\n",
        "\n",
        "Therefore, the data is normal distributed."
      ],
      "metadata": {
        "id": "x14xmAlu9KJA"
      }
    },
    {
      "cell_type": "markdown",
      "source": [
        "###**Independence:**\n",
        "\n",
        "The sample should be independent. \n",
        "\n",
        "This means that the value of one observation should not affect the value of another observation."
      ],
      "metadata": {
        "id": "_1rxUhCl6voN"
      }
    },
    {
      "cell_type": "markdown",
      "source": [
        "The mean point difference for NBA teams while playing home games and away games can be considered independent.\n",
        "\n",
        "It is because the value of one observation does not affect the value of another observation. So, it means that the point difference for one team in one game should not affect the point difference for another team in another game.\n",
        "\n",
        "To be more specific, the mean point difference for NBA teams while playing home games and away games are independent because each game is a separate event with its own set of circumstances and conditions. The performance of a team in one game is not affecting of their performance in another game."
      ],
      "metadata": {
        "id": "U-vwpDz4_KwP"
      }
    },
    {
      "cell_type": "markdown",
      "source": [
        "###**Equality of variances:**\n",
        "\n",
        "The variances of mean point difference for home games and away games are supposed to be equal."
      ],
      "metadata": {
        "id": "5Xza7sRL687T"
      }
    },
    {
      "cell_type": "code",
      "source": [
        "v1 = (df['PTS DIFF (HOME)'].std())**2\n",
        "v2 = df['PTS DIFF (AWAY)'].std()**2\n",
        "\n",
        "print(f\"The variance for the mean point difference for home games is {v1:.5f}.\")\n",
        "print(f\"The variance for the mean point difference for away games is {v2:.5f}.\")"
      ],
      "metadata": {
        "colab": {
          "base_uri": "https://localhost:8080/"
        },
        "id": "sPfxmD4y_7u8",
        "outputId": "56a07128-255e-4758-8abe-0e97748d6f2c"
      },
      "execution_count": 25,
      "outputs": [
        {
          "output_type": "stream",
          "name": "stdout",
          "text": [
            "The variance for the mean point difference for home games is 25.96713.\n",
            "The variance for the mean point difference for away games is 26.84944.\n"
          ]
        }
      ]
    },
    {
      "cell_type": "markdown",
      "source": [
        "**Interpretation:**\n",
        "\n",
        "From the above, we can conclude that the variance for the mean point difference for home games and away games are not equal."
      ],
      "metadata": {
        "id": "Qnb76BeOBfiF"
      }
    },
    {
      "cell_type": "markdown",
      "source": [
        "## Conducting a Hypothesis Test"
      ],
      "metadata": {
        "id": "1naxwNb8ChqB"
      }
    },
    {
      "cell_type": "markdown",
      "source": [
        "Let $\\delta$ denotes the mean of difference between points difference in home games and away games, then the hypotheses are stated as follows:\n",
        "\n",
        "$\\mu_A$: Mean Points Difference in home games\n",
        "\n",
        "$\\mu_B$: Mean Points Difference in away games\n",
        "\n",
        "\n",
        "$H_0: \\delta = \\mu_B - \\mu_A = 0$\n",
        "\n",
        "$H_A: \\delta = \\mu_A - \\mu_B > 0$"
      ],
      "metadata": {
        "id": "WsKsFW4AMNPr"
      }
    },
    {
      "cell_type": "markdown",
      "source": [
        "This hypothesis testing is a two-sample t-test.\n",
        "\n",
        "\n",
        "---\n",
        "\n",
        "\n",
        "The test statistic is\n",
        "\\begin{equation}\n",
        "T = \\frac{\\bar d - d_0}{\\sqrt{s_1^2/{n_1}+{s_2^2/n_2}}} \\sim t(n-1),\n",
        "\\end{equation}\n",
        "\n",
        "where $\\bar d = \\frac{1}{n} \\sum d_i = \\frac{1}{n} \\sum (x_i^A - x_i^B)$, $x_i^A$ and $x_i^B$ are the mean point difference for home games and away games, respectively. \n",
        "\n",
        "In this example, $d_0 = 0$, $n= 30$"
      ],
      "metadata": {
        "id": "XCm3D9pgHXEm"
      }
    },
    {
      "cell_type": "code",
      "source": [
        "meanHome = df['PTS DIFF (HOME)'].mean()\n",
        "meanAway = df['PTS DIFF (AWAY)'].mean()\n",
        "\n",
        "d_bar = meanHome - meanAway\n",
        "s1 = df['PTS DIFF (HOME)'].std()\n",
        "s2 = df['PTS DIFF (AWAY)'].std()\n",
        "n1 = 30\n",
        "n2 = 30\n",
        "\n",
        "sample1 = df['PTS DIFF (HOME)']\n",
        "sample2 = df['PTS DIFF (AWAY)']\n",
        "\n",
        "t = (d_bar)/((s1**2/n1)+(s2**2/n2))**(1/2)\n",
        "print(f'The test statistic value is {t:.4}')\n",
        "\n",
        "t_statistic, p_value = ttest_ind(sample1, sample2)\n",
        "\n",
        "#print(f\"The t-value is {t_statistic:.5f}\")\n",
        "print(f\"The p-value is {p_value:.5f}\")"
      ],
      "metadata": {
        "colab": {
          "base_uri": "https://localhost:8080/"
        },
        "id": "xW64ffvVF831",
        "outputId": "70db8c7f-4960-4b58-dbd4-8ab107415f43"
      },
      "execution_count": 44,
      "outputs": [
        {
          "output_type": "stream",
          "name": "stdout",
          "text": [
            "The test statistic value is 2.605\n",
            "The p-value is 0.01165\n"
          ]
        }
      ]
    },
    {
      "cell_type": "markdown",
      "source": [
        "**Interpretation**\n",
        "\n",
        "When the null hypothesis is true ($\\delta = 0$), the probability of obtaining the test statistic value above or equal to 2.605 is about 0.01165.\n"
      ],
      "metadata": {
        "id": "cMhs0MGFMAuy"
      }
    },
    {
      "cell_type": "markdown",
      "source": [
        "Using a common significant level: $\\alpha = 0.05$:\n",
        "\n",
        "Since the p-value < $\\alpha$, we reject $H_0$."
      ],
      "metadata": {
        "id": "WvX1hSWlNBYt"
      }
    },
    {
      "cell_type": "markdown",
      "source": [
        "At the 0.05 level of significance, the p-value is less than the significant level $\\alpha = 0.05$, then we reject the null hypothesis and claim that the mean point difference in home games is higher that of away games."
      ],
      "metadata": {
        "id": "Q1Bl2RB7OKmW"
      }
    },
    {
      "cell_type": "markdown",
      "source": [
        "Since I rejected the null hypothesis based on the p-value being less than the significance level of 0.05, there is a possibility that I could have made a Type I error. \n",
        "\n",
        "A Type I error occurs when the null hypothesis is rejected when it is actually true. Even though the test indicates that there is a significant difference between the mean point difference in home games and away games, in reality there may be no difference. \n",
        "\n",
        "The probability of making a Type I error is equal to the significance level of the test, which in this case is 0.05. This means that there is a 5% chance that I could have made a Type I error and rejected the null hypothesis when it is actually true, which means the mean point difference in home games may not be higher that of away games."
      ],
      "metadata": {
        "id": "SJRCONd2O0r_"
      }
    },
    {
      "cell_type": "markdown",
      "source": [
        "## Summary"
      ],
      "metadata": {
        "id": "caB2j_pMPLwr"
      }
    },
    {
      "cell_type": "markdown",
      "source": [
        "### You summarize your project and include some mention of how you came up with your idea, how you collected your data, and what you found when you explored and analyzed your data."
      ],
      "metadata": {
        "id": "EGyjvIWpTGc0"
      }
    },
    {
      "cell_type": "markdown",
      "source": [
        "From the data, I found that the mean point difference at home games is generally higher that away games. \n",
        "\n",
        "To sum up, we can conclude that NBA teams are performing better in home games than away games.\n",
        "\n",
        "---\n",
        "\n",
        "As a NBA fans, there are always some commentor or NBA players claim that they usually play better at home games that away games. \n",
        "\n",
        "Therefore, I want to have a test to analyse is there any statistical supoort for the statement.\n",
        "\n",
        "---\n",
        "\n",
        "I search the data set online."
      ],
      "metadata": {
        "id": "Hro0zlw4PYm7"
      }
    },
    {
      "cell_type": "markdown",
      "source": [
        "##### There is a interesting point is that the mean point difference at home games as well as away games for playoff teams are both positive, while that of non-playoff teams are both negative.\n",
        "\n",
        "It prove that a team have to perform well at home games and away games in order to get more wins and get into playoff."
      ],
      "metadata": {
        "id": "stYUJNDAUN8P"
      }
    },
    {
      "cell_type": "code",
      "source": [
        "print(\"Home Games' Points Difference per game of Playoff Teams\")\n",
        "print(df.groupby('Playoff')['PTS DIFF (HOME)'].mean())"
      ],
      "metadata": {
        "colab": {
          "base_uri": "https://localhost:8080/"
        },
        "id": "PQJgWnrFUTui",
        "outputId": "2866e408-5111-4326-dcfe-adf22b1eac99"
      },
      "execution_count": 48,
      "outputs": [
        {
          "output_type": "stream",
          "name": "stdout",
          "text": [
            "Home Games' Points Difference per game of Playoff Teams\n",
            "Playoff\n",
            "False   -2.171429\n",
            "True     5.150000\n",
            "Name: PTS DIFF (HOME), dtype: float64\n"
          ]
        }
      ]
    },
    {
      "cell_type": "code",
      "source": [
        "print(\"Away Games' Points Difference per game of Playoff Teams\")\n",
        "print(df.groupby('Playoff')['PTS DIFF (AWAY)'].mean())"
      ],
      "metadata": {
        "colab": {
          "base_uri": "https://localhost:8080/"
        },
        "id": "17S-yvA8UUiJ",
        "outputId": "2a4eec84-db14-41b2-deef-6fb852372079"
      },
      "execution_count": 49,
      "outputs": [
        {
          "output_type": "stream",
          "name": "stdout",
          "text": [
            "Away Games' Points Difference per game of Playoff Teams\n",
            "Playoff\n",
            "False   -5.528571\n",
            "True     1.606250\n",
            "Name: PTS DIFF (AWAY), dtype: float64\n"
          ]
        }
      ]
    },
    {
      "cell_type": "markdown",
      "source": [
        "### You discuss any shortcomings of the methods you used to gather data and why you feel these are shortcomings. "
      ],
      "metadata": {
        "id": "o9uryh7uTLNf"
      }
    },
    {
      "cell_type": "markdown",
      "source": [
        "Only data from 2021-2022 season is included. More data can be included to increase the sample size and the accuracy. \n",
        "\n",
        "However, I think the test result will be the same even when the sample size is increased, as home teams are likely to perform better on both offensive and defensive side, i.e. having higher points difference (per game) in home games than away games.\n",
        "\n",
        "It is because players are more familiar with their home court and there are more fans supporting the home team."
      ],
      "metadata": {
        "id": "JNLZoOEdT2HH"
      }
    },
    {
      "cell_type": "markdown",
      "source": [
        "###You talk about how you would do the project differently if you were to do it over again"
      ],
      "metadata": {
        "id": "9xqAlGPsTMzD"
      }
    },
    {
      "cell_type": "markdown",
      "source": [
        "I would gather data for each NBA team, and analyse their mean point difference in home games and away games. \n",
        "\n",
        "It is better to analyse is there any difference for each team, not just only a general picture. \n",
        "\n",
        "It can be more specific. For example, I can compare the mean point difference between divisions, Western Conference and Eastern Conference, or playoff and non-playoff teams."
      ],
      "metadata": {
        "id": "pow4a-drUehI"
      }
    }
  ]
}